{
 "cells": [
  {
   "cell_type": "code",
   "execution_count": 1,
   "metadata": {},
   "outputs": [],
   "source": [
    "# imports + settings\n",
    "\n",
    "from bqplot import pyplot as plt\n",
    "from bqplot import OrdinalScale, LinearScale, Axis, Figure, Hist\n",
    "from ipywidgets import interact\n",
    "\n",
    "import ipywidgets as widgets\n",
    "import numpy as np\n",
    "\n",
    "np.random.seed(1)"
   ]
  },
  {
   "cell_type": "code",
   "execution_count": 2,
   "metadata": {},
   "outputs": [],
   "source": [
    "# globals\n",
    "\n",
    "mu = 11.2\n",
    "sigma = 1.6"
   ]
  },
  {
   "cell_type": "code",
   "execution_count": 3,
   "metadata": {},
   "outputs": [],
   "source": [
    "# create data\n",
    "\n",
    "points = np.random.normal(mu, sigma, 2000)"
   ]
  },
  {
   "cell_type": "code",
   "execution_count": 4,
   "metadata": {},
   "outputs": [],
   "source": [
    "# functions\n",
    "\n",
    "def f(x=1):\n",
    "    hist.sample = points[:x]\n",
    "    \n",
    "    mapping = {v: k for k, v in enumerate(x_std)}\n",
    "    \n",
    "    line.x = x_std[:mapping[x] + 1]\n",
    "    line.y = y_std[:mapping[x] + 1]\n",
    "    \n",
    "    scatter.x = x_std[:mapping[x] + 1]\n",
    "    scatter.y = y_std[:mapping[x] + 1]"
   ]
  },
  {
   "cell_type": "code",
   "execution_count": 5,
   "metadata": {
    "scrolled": false
   },
   "outputs": [],
   "source": [
    "# 1. Create the scales\n",
    "xs = LinearScale(min=min(points), max=max(points))\n",
    "ys = LinearScale()\n",
    "\n",
    "# 2. Create the axes for x and y\n",
    "xax = Axis(scale=xs, label='Schadepercentage', grid_lines='none')\n",
    "yax = Axis(scale=ys, orientation='vertical', label='Aantal')\n",
    "\n",
    "hist = Hist(sample=points[:1], bins=30, colors = ['lightblue'], scales={'sample': xs, 'count': ys})\n",
    "\n",
    "# histogram\n",
    "hist_fig = Figure(marks=[hist], axes=[xax, yax], title='Histogram schadepercentage', animation_duration=500)"
   ]
  },
  {
   "cell_type": "code",
   "execution_count": 6,
   "metadata": {},
   "outputs": [],
   "source": [
    "# scatterline\n",
    "x_std = [1, 2, 5, 10, 50, 100, 500, 1000, 2000]\n",
    "y_std = [points[:i].std() for i in x_std]\n",
    "\n",
    "# 1. Create the scales\n",
    "xs = OrdinalScale()\n",
    "ys = LinearScale(max=points.std() + points.std() / 4)\n",
    "\n",
    "# 2. Create the axes for x and y\n",
    "xax = Axis(scale=xs, label='Populatie grootte', grid_lines='none')\n",
    "yax = Axis(scale=ys, orientation='vertical', label='Standaard fout')\n",
    "\n",
    "line = plt.plot(x=x_std[:1], y=y_std[:1], colors=['blue'], stroke_width=3, scales={'x': xs, 'y': ys})\n",
    "scatter = plt.scatter(x=x_std[:1], y=y_std[:1], colors=['blue'], scales={'x': xs, 'y': ys})\n",
    "\n",
    "std_fig = Figure(marks=[line, scatter], axes=[xax, yax], title='Standaard fout', animation_duration=500)"
   ]
  },
  {
   "cell_type": "code",
   "execution_count": 7,
   "metadata": {},
   "outputs": [
    {
     "data": {
      "application/vnd.jupyter.widget-view+json": {
       "model_id": "7746231ca3d4474ba64065e5a2055812",
       "version_major": 2,
       "version_minor": 0
      },
      "text/plain": [
       "interactive(children=(Dropdown(description='x', options=(('1', 1), ('2', 2), ('5', 5), ('10', 10), ('50', 50),…"
      ]
     },
     "metadata": {},
     "output_type": "display_data"
    }
   ],
   "source": [
    "inter = interact(f, x=[(str(i), i) for i in x_std])"
   ]
  },
  {
   "cell_type": "code",
   "execution_count": 17,
   "metadata": {},
   "outputs": [
    {
     "data": {
      "application/vnd.jupyter.widget-view+json": {
       "model_id": "fde160fe841a4d09ba73e57f1a8ceb2d",
       "version_major": 2,
       "version_minor": 0
      },
      "text/plain": [
       "HBox(children=(Figure(animation_duration=500, axes=[Axis(grid_lines='none', label='Populatie grootte', scale=O…"
      ]
     },
     "metadata": {},
     "output_type": "display_data"
    }
   ],
   "source": [
    "widgets.VBox([std_fig, hist_fig], width=5)"
   ]
  },
  {
   "cell_type": "code",
   "execution_count": null,
   "metadata": {},
   "outputs": [],
   "source": []
  }
 ],
 "metadata": {
  "kernelspec": {
   "display_name": "Python 3",
   "language": "python",
   "name": "python3"
  },
  "language_info": {
   "codemirror_mode": {
    "name": "ipython",
    "version": 3
   },
   "file_extension": ".py",
   "mimetype": "text/x-python",
   "name": "python",
   "nbconvert_exporter": "python",
   "pygments_lexer": "ipython3",
   "version": "3.7.6"
  }
 },
 "nbformat": 4,
 "nbformat_minor": 4
}
